{
 "cells": [
  {
   "attachments": {},
   "cell_type": "markdown",
   "metadata": {},
   "source": [
    "# Simulation\n",
    "\n",
    "CoHDL is currently not able to simulate synthesizable contexts. Instead [cohdl_sim](https://github.com/alexander-forster/cohdl_sim) can be used. This Python module uses [cocotb](https://www.cocotb.org/) to define testbenches for the generated output of CoHDL.\n",
    "\n",
    "The advantage of this approach is, that the designs are tested using established tools.\n",
    "\n",
    "The following simple example defines tests for an entity that adds two numbers. For more details checkout the cohdl_sim repo."
   ]
  },
  {
   "cell_type": "code",
   "execution_count": 1,
   "metadata": {},
   "outputs": [],
   "source": [
    "from cohdl import Entity, Port, Unsigned\n",
    "from cohdl import std\n",
    "\n",
    "class MyDesign(Entity):\n",
    "    inp_a = Port.input(Unsigned[8])\n",
    "    inp_b = Port.input(Unsigned[8])\n",
    "\n",
    "    out_sum = Port.output(Unsigned[8])\n",
    "\n",
    "    def architecture(self):\n",
    "        @std.concurrent\n",
    "        def interleave_logic():\n",
    "            self.out_sum <<= self.inp_a + self.inp_b"
   ]
  },
  {
   "attachments": {},
   "cell_type": "markdown",
   "metadata": {},
   "source": [
    "cohdl_sim provides a single class `Simulator`. It wraps a CoHDL entity, translates it to VHDL and starts a cocotb test session with that code. Additionally it abstracts cocotb functions so testbenches look like synthesizable CoHDL code."
   ]
  },
  {
   "cell_type": "code",
   "execution_count": 2,
   "metadata": {},
   "outputs": [
    {
     "name": "stdout",
     "output_type": "stream",
     "text": [
      "initial: 0u\n",
      "result: 3u\n"
     ]
    },
    {
     "name": "stderr",
     "output_type": "stream",
     "text": [
      "loading VPI module '/home/alexander/dev/cohdl/cohdl_documentation/.venv/lib/python3.11/site-packages/cohdl_sim_ghdl_interface.cpython-311-x86_64-linux-gnu.so'\n",
      "VPI module loaded!\n"
     ]
    }
   ],
   "source": [
    "from cohdl_sim.ghdl_sim import Simulator\n",
    "\n",
    "# ghdl_sim is a special Simulator backend that is only available under Linux\n",
    "# and requires some additional setup. The main advantage over the default simulator\n",
    "# is, that it can run in jupyter notebooks.\n",
    "\n",
    "# To use the default simulator based on cocotb, uncomment the following import.\n",
    "# Check the cohdl_sim repo for more information.\n",
    "# from cohdl_sim import Simulator\n",
    "\n",
    "sim = Simulator(MyDesign)\n",
    "\n",
    "@sim.test\n",
    "async def testbench_1(entity: MyDesign):\n",
    "    entity.inp_a <<= 1\n",
    "    entity.inp_b <<= 2\n",
    "\n",
    "    print(f\"initial: {entity.out_sum}\")\n",
    "\n",
    "    # run simulator to update output\n",
    "    await sim.delta_step()\n",
    "\n",
    "    assert entity.out_sum == 3\n",
    "\n",
    "    print(f\"result: {entity.out_sum}\")\n"
   ]
  },
  {
   "cell_type": "code",
   "execution_count": 3,
   "metadata": {},
   "outputs": [
    {
     "name": "stdout",
     "output_type": "stream",
     "text": [
      "0u == 0 + 0\n",
      "1u == 0 + 1\n",
      "2u == 0 + 2\n",
      "3u == 0 + 3\n",
      "4u == 0 + 4\n",
      "1u == 1 + 0\n",
      "2u == 1 + 1\n",
      "3u == 1 + 2\n",
      "4u == 1 + 3\n",
      "5u == 1 + 4\n",
      "2u == 2 + 0\n",
      "3u == 2 + 1\n",
      "4u == 2 + 2\n",
      "5u == 2 + 3\n",
      "6u == 2 + 4\n",
      "3u == 3 + 0\n",
      "4u == 3 + 1\n",
      "5u == 3 + 2\n",
      "6u == 3 + 3\n",
      "7u == 3 + 4\n",
      "4u == 4 + 0\n",
      "5u == 4 + 1\n",
      "6u == 4 + 2\n",
      "7u == 4 + 3\n",
      "8u == 4 + 4\n"
     ]
    },
    {
     "name": "stderr",
     "output_type": "stream",
     "text": [
      "loading VPI module '/home/alexander/dev/cohdl/cohdl_documentation/.venv/lib/python3.11/site-packages/cohdl_sim_ghdl_interface.cpython-311-x86_64-linux-gnu.so'\n",
      "VPI module loaded!\n"
     ]
    }
   ],
   "source": [
    "@sim.test\n",
    "async def testbench_2(entity: MyDesign):\n",
    "    for a in range(5):\n",
    "        for b in range(5):\n",
    "            entity.inp_a <<= a\n",
    "            entity.inp_b <<= b\n",
    "\n",
    "            await sim.delta_step()\n",
    "\n",
    "            assert entity.out_sum == a+b\n",
    "            print(f\"{entity.out_sum} == {a} + {b}\")"
   ]
  }
 ],
 "metadata": {
  "kernelspec": {
   "display_name": "venv",
   "language": "python",
   "name": "python3"
  },
  "language_info": {
   "codemirror_mode": {
    "name": "ipython",
    "version": 3
   },
   "file_extension": ".py",
   "mimetype": "text/x-python",
   "name": "python",
   "nbconvert_exporter": "python",
   "pygments_lexer": "ipython3",
   "version": "3.11.4"
  },
  "orig_nbformat": 4,
  "vscode": {
   "interpreter": {
    "hash": "60ab8bcd754584b08389d6b054437a32e700a496bfd0359bc451192bf91e662c"
   }
  }
 },
 "nbformat": 4,
 "nbformat_minor": 2
}
